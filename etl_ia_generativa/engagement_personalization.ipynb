{
  "nbformat": 4,
  "nbformat_minor": 0,
  "metadata": {
    "colab": {
      "provenance": [],
      "toc_visible": true,
      "gpuType": "T4"
    },
    "kernelspec": {
      "name": "python3",
      "display_name": "Python 3"
    },
    "language_info": {
      "name": "python"
    },
    "accelerator": "GPU"
  },
  "cells": [
    {
      "cell_type": "markdown",
      "source": [
        "# Personalização de Engajamento de Clientes no Santander usando IA Generativa"
      ],
      "metadata": {
        "id": "c449_k8Fqma4"
      }
    },
    {
      "cell_type": "markdown",
      "source": [
        "O intuito desse notebook é implementar uma ETL que personalizada mensagens de marketing para clientes do Santander usando IA Generativa"
      ],
      "metadata": {
        "id": "d_sFQ9m_qv0p"
      }
    },
    {
      "cell_type": "markdown",
      "source": [
        "## Contexto\n",
        "\n",
        "Você é um cientista de dados no Santander e recebeu a tarefa de envolver seus clientes de maneira mais personalizada. Seu objetivo é usar o poder da IA Generativa para criar mensagens de marketing personalizadas que serão entregues a cada cliente.\n",
        "\n",
        "\n",
        "\n",
        "1. Você recebeu uma planilha simples, em formato CSV ('SDW2023.csv'), com uma lista de IDs de usuário do banco:\n",
        "  ```\n",
        "  UserID\n",
        "  1\n",
        "  2\n",
        "  3\n",
        "  4\n",
        "  5\n",
        "  ```\n",
        "2. Seu trabalho é consumir o endpoint `GET https://sdw-2023-prd.up.railway.app/users/{id}` (API da Santander Dev Week 2023) para obter os dados de cada cliente.\n",
        "3. Depois de obter os dados dos clientes, você vai usar a API do ChatGPT (OpenAI) para gerar uma mensagem de marketing personalizada para cada cliente. Essa mensagem deve enfatizar a importância dos investimentos.\n",
        "4. Uma vez que a mensagem para cada cliente esteja pronta, você vai enviar essas informações de volta para a API, atualizando a lista de \"news\" de cada usuário usando o endpoint `PUT https://sdw-2023-prd.up.railway.app/users/{id}`."
      ],
      "metadata": {
        "id": "t6wo49durEI8"
      }
    },
    {
      "cell_type": "markdown",
      "source": [
        "## Instação e importação das bibliotecas"
      ],
      "metadata": {
        "id": "qdtQUsslrZYX"
      }
    },
    {
      "cell_type": "code",
      "source": [
        "!pip install requests pandas openai tqdm bardapi --quiet"
      ],
      "metadata": {
        "id": "rfyOBekxrcse",
        "colab": {
          "base_uri": "https://localhost:8080/"
        },
        "outputId": "f2ebf631-8334-4a87-ab76-a2780039aa3f"
      },
      "execution_count": 1,
      "outputs": [
        {
          "output_type": "stream",
          "name": "stdout",
          "text": [
            "\u001b[2K     \u001b[90m━━━━━━━━━━━━━━━━━━━━━━━━━━━━━━━━━━━━━━━━\u001b[0m \u001b[32m77.0/77.0 kB\u001b[0m \u001b[31m2.1 MB/s\u001b[0m eta \u001b[36m0:00:00\u001b[0m\n",
            "\u001b[2K     \u001b[90m━━━━━━━━━━━━━━━━━━━━━━━━━━━━━━━━━━━━━━━━\u001b[0m \u001b[32m75.7/75.7 kB\u001b[0m \u001b[31m8.2 MB/s\u001b[0m eta \u001b[36m0:00:00\u001b[0m\n",
            "\u001b[2K     \u001b[90m━━━━━━━━━━━━━━━━━━━━━━━━━━━━━━━━━━━━━━━━\u001b[0m \u001b[32m42.3/42.3 kB\u001b[0m \u001b[31m4.8 MB/s\u001b[0m eta \u001b[36m0:00:00\u001b[0m\n",
            "\u001b[2K     \u001b[90m━━━━━━━━━━━━━━━━━━━━━━━━━━━━━━━━━━━━━━━━\u001b[0m \u001b[32m981.5/981.5 kB\u001b[0m \u001b[31m27.3 MB/s\u001b[0m eta \u001b[36m0:00:00\u001b[0m\n",
            "\u001b[?25h  Preparing metadata (setup.py) ... \u001b[?25l\u001b[?25hdone\n",
            "\u001b[2K     \u001b[90m━━━━━━━━━━━━━━━━━━━━━━━━━━━━━━━━━━━━━━━━\u001b[0m \u001b[32m76.0/76.0 kB\u001b[0m \u001b[31m10.4 MB/s\u001b[0m eta \u001b[36m0:00:00\u001b[0m\n",
            "\u001b[2K     \u001b[90m━━━━━━━━━━━━━━━━━━━━━━━━━━━━━━━━━━━━━━━━\u001b[0m \u001b[32m57.5/57.5 kB\u001b[0m \u001b[31m6.9 MB/s\u001b[0m eta \u001b[36m0:00:00\u001b[0m\n",
            "\u001b[2K     \u001b[90m━━━━━━━━━━━━━━━━━━━━━━━━━━━━━━━━━━━━━━━━\u001b[0m \u001b[32m1.3/1.3 MB\u001b[0m \u001b[31m50.5 MB/s\u001b[0m eta \u001b[36m0:00:00\u001b[0m\n",
            "\u001b[2K     \u001b[90m━━━━━━━━━━━━━━━━━━━━━━━━━━━━━━━━━━━━━━━━\u001b[0m \u001b[32m2.1/2.1 MB\u001b[0m \u001b[31m88.3 MB/s\u001b[0m eta \u001b[36m0:00:00\u001b[0m\n",
            "\u001b[2K     \u001b[90m━━━━━━━━━━━━━━━━━━━━━━━━━━━━━━━━━━━━━━━━\u001b[0m \u001b[32m58.3/58.3 kB\u001b[0m \u001b[31m7.0 MB/s\u001b[0m eta \u001b[36m0:00:00\u001b[0m\n",
            "\u001b[?25h  Building wheel for langdetect (setup.py) ... \u001b[?25l\u001b[?25hdone\n",
            "\u001b[31mERROR: pip's dependency resolver does not currently take into account all the packages that are installed. This behaviour is the source of the following dependency conflicts.\n",
            "llmx 0.0.15a0 requires cohere, which is not installed.\n",
            "llmx 0.0.15a0 requires tiktoken, which is not installed.\u001b[0m\u001b[31m\n",
            "\u001b[0m"
          ]
        }
      ]
    },
    {
      "cell_type": "code",
      "source": [
        "import requests\n",
        "import pandas as pd\n",
        "import time\n",
        "import os\n",
        "import time\n",
        "import json\n",
        "from tqdm import tqdm\n",
        "from bardapi import Bard"
      ],
      "metadata": {
        "id": "p56n6Mv_rdim"
      },
      "execution_count": 2,
      "outputs": []
    },
    {
      "cell_type": "markdown",
      "source": [
        "## Configuração do ambiente"
      ],
      "metadata": {
        "id": "ylmV6ptIrh0v"
      }
    },
    {
      "cell_type": "markdown",
      "source": [
        "**Começamos** dando um valor para\n",
        "`'\n",
        "\n",
        "BARD_API_KEY'`, que é a key para uso do API do Google Bard. É possível encontrar mais detalhes no link do [repositório GitHub do bard-api](https://github.com/dsdanielpark/Bard-API)."
      ],
      "metadata": {
        "id": "wHk6EE7grlsf"
      }
    },
    {
      "cell_type": "code",
      "source": [
        "# Replace XXXX with the values you get from __Secure-1PSID\n",
        "os.environ['_BARD_API_KEY']=\"WCwHxs2yondbQaEc/AGBT507znC7dUDkkE\""
      ],
      "metadata": {
        "id": "-wUeRxkMrsjI"
      },
      "execution_count": 3,
      "outputs": []
    },
    {
      "cell_type": "markdown",
      "source": [
        "Definindo o máximo valor de tentativas para buscar os IDs na API e o delay inicial para começar."
      ],
      "metadata": {
        "id": "Se2h60fHt7LB"
      }
    },
    {
      "cell_type": "code",
      "source": [
        "MAX_ATTEMPTS = 3\n",
        "INITIAL_DELAY = 2"
      ],
      "metadata": {
        "id": "Jzs4sPart-TJ"
      },
      "execution_count": 4,
      "outputs": []
    },
    {
      "cell_type": "markdown",
      "source": [
        "## Carregamento de IDs\n"
      ],
      "metadata": {
        "id": "UjBAs_24t_vx"
      }
    },
    {
      "cell_type": "markdown",
      "source": [
        "O arquivo de origem é um csv composto por:\n",
        "\n",
        "  ```\n",
        "  UserID\n",
        "  1\n",
        "  2\n",
        "  3\n",
        "  4\n",
        "  5\n",
        "  ```"
      ],
      "metadata": {
        "id": "pG-vge_muIqR"
      }
    },
    {
      "cell_type": "code",
      "source": [
        "# Carregamento de arquivos (para o csv)\n",
        "from google.colab import files\n",
        "\n",
        "uploaded = files.upload()"
      ],
      "metadata": {
        "colab": {
          "base_uri": "https://localhost:8080/",
          "height": 73
        },
        "id": "A5Loic3DdMCV",
        "outputId": "1982c5c0-a4c4-495f-b1c3-fdb8ce7dc8d2"
      },
      "execution_count": 6,
      "outputs": [
        {
          "output_type": "display_data",
          "data": {
            "text/plain": [
              "<IPython.core.display.HTML object>"
            ],
            "text/html": [
              "\n",
              "     <input type=\"file\" id=\"files-a069006f-3721-44b9-bb33-73e05a58857e\" name=\"files[]\" multiple disabled\n",
              "        style=\"border:none\" />\n",
              "     <output id=\"result-a069006f-3721-44b9-bb33-73e05a58857e\">\n",
              "      Upload widget is only available when the cell has been executed in the\n",
              "      current browser session. Please rerun this cell to enable.\n",
              "      </output>\n",
              "      <script>// Copyright 2017 Google LLC\n",
              "//\n",
              "// Licensed under the Apache License, Version 2.0 (the \"License\");\n",
              "// you may not use this file except in compliance with the License.\n",
              "// You may obtain a copy of the License at\n",
              "//\n",
              "//      http://www.apache.org/licenses/LICENSE-2.0\n",
              "//\n",
              "// Unless required by applicable law or agreed to in writing, software\n",
              "// distributed under the License is distributed on an \"AS IS\" BASIS,\n",
              "// WITHOUT WARRANTIES OR CONDITIONS OF ANY KIND, either express or implied.\n",
              "// See the License for the specific language governing permissions and\n",
              "// limitations under the License.\n",
              "\n",
              "/**\n",
              " * @fileoverview Helpers for google.colab Python module.\n",
              " */\n",
              "(function(scope) {\n",
              "function span(text, styleAttributes = {}) {\n",
              "  const element = document.createElement('span');\n",
              "  element.textContent = text;\n",
              "  for (const key of Object.keys(styleAttributes)) {\n",
              "    element.style[key] = styleAttributes[key];\n",
              "  }\n",
              "  return element;\n",
              "}\n",
              "\n",
              "// Max number of bytes which will be uploaded at a time.\n",
              "const MAX_PAYLOAD_SIZE = 100 * 1024;\n",
              "\n",
              "function _uploadFiles(inputId, outputId) {\n",
              "  const steps = uploadFilesStep(inputId, outputId);\n",
              "  const outputElement = document.getElementById(outputId);\n",
              "  // Cache steps on the outputElement to make it available for the next call\n",
              "  // to uploadFilesContinue from Python.\n",
              "  outputElement.steps = steps;\n",
              "\n",
              "  return _uploadFilesContinue(outputId);\n",
              "}\n",
              "\n",
              "// This is roughly an async generator (not supported in the browser yet),\n",
              "// where there are multiple asynchronous steps and the Python side is going\n",
              "// to poll for completion of each step.\n",
              "// This uses a Promise to block the python side on completion of each step,\n",
              "// then passes the result of the previous step as the input to the next step.\n",
              "function _uploadFilesContinue(outputId) {\n",
              "  const outputElement = document.getElementById(outputId);\n",
              "  const steps = outputElement.steps;\n",
              "\n",
              "  const next = steps.next(outputElement.lastPromiseValue);\n",
              "  return Promise.resolve(next.value.promise).then((value) => {\n",
              "    // Cache the last promise value to make it available to the next\n",
              "    // step of the generator.\n",
              "    outputElement.lastPromiseValue = value;\n",
              "    return next.value.response;\n",
              "  });\n",
              "}\n",
              "\n",
              "/**\n",
              " * Generator function which is called between each async step of the upload\n",
              " * process.\n",
              " * @param {string} inputId Element ID of the input file picker element.\n",
              " * @param {string} outputId Element ID of the output display.\n",
              " * @return {!Iterable<!Object>} Iterable of next steps.\n",
              " */\n",
              "function* uploadFilesStep(inputId, outputId) {\n",
              "  const inputElement = document.getElementById(inputId);\n",
              "  inputElement.disabled = false;\n",
              "\n",
              "  const outputElement = document.getElementById(outputId);\n",
              "  outputElement.innerHTML = '';\n",
              "\n",
              "  const pickedPromise = new Promise((resolve) => {\n",
              "    inputElement.addEventListener('change', (e) => {\n",
              "      resolve(e.target.files);\n",
              "    });\n",
              "  });\n",
              "\n",
              "  const cancel = document.createElement('button');\n",
              "  inputElement.parentElement.appendChild(cancel);\n",
              "  cancel.textContent = 'Cancel upload';\n",
              "  const cancelPromise = new Promise((resolve) => {\n",
              "    cancel.onclick = () => {\n",
              "      resolve(null);\n",
              "    };\n",
              "  });\n",
              "\n",
              "  // Wait for the user to pick the files.\n",
              "  const files = yield {\n",
              "    promise: Promise.race([pickedPromise, cancelPromise]),\n",
              "    response: {\n",
              "      action: 'starting',\n",
              "    }\n",
              "  };\n",
              "\n",
              "  cancel.remove();\n",
              "\n",
              "  // Disable the input element since further picks are not allowed.\n",
              "  inputElement.disabled = true;\n",
              "\n",
              "  if (!files) {\n",
              "    return {\n",
              "      response: {\n",
              "        action: 'complete',\n",
              "      }\n",
              "    };\n",
              "  }\n",
              "\n",
              "  for (const file of files) {\n",
              "    const li = document.createElement('li');\n",
              "    li.append(span(file.name, {fontWeight: 'bold'}));\n",
              "    li.append(span(\n",
              "        `(${file.type || 'n/a'}) - ${file.size} bytes, ` +\n",
              "        `last modified: ${\n",
              "            file.lastModifiedDate ? file.lastModifiedDate.toLocaleDateString() :\n",
              "                                    'n/a'} - `));\n",
              "    const percent = span('0% done');\n",
              "    li.appendChild(percent);\n",
              "\n",
              "    outputElement.appendChild(li);\n",
              "\n",
              "    const fileDataPromise = new Promise((resolve) => {\n",
              "      const reader = new FileReader();\n",
              "      reader.onload = (e) => {\n",
              "        resolve(e.target.result);\n",
              "      };\n",
              "      reader.readAsArrayBuffer(file);\n",
              "    });\n",
              "    // Wait for the data to be ready.\n",
              "    let fileData = yield {\n",
              "      promise: fileDataPromise,\n",
              "      response: {\n",
              "        action: 'continue',\n",
              "      }\n",
              "    };\n",
              "\n",
              "    // Use a chunked sending to avoid message size limits. See b/62115660.\n",
              "    let position = 0;\n",
              "    do {\n",
              "      const length = Math.min(fileData.byteLength - position, MAX_PAYLOAD_SIZE);\n",
              "      const chunk = new Uint8Array(fileData, position, length);\n",
              "      position += length;\n",
              "\n",
              "      const base64 = btoa(String.fromCharCode.apply(null, chunk));\n",
              "      yield {\n",
              "        response: {\n",
              "          action: 'append',\n",
              "          file: file.name,\n",
              "          data: base64,\n",
              "        },\n",
              "      };\n",
              "\n",
              "      let percentDone = fileData.byteLength === 0 ?\n",
              "          100 :\n",
              "          Math.round((position / fileData.byteLength) * 100);\n",
              "      percent.textContent = `${percentDone}% done`;\n",
              "\n",
              "    } while (position < fileData.byteLength);\n",
              "  }\n",
              "\n",
              "  // All done.\n",
              "  yield {\n",
              "    response: {\n",
              "      action: 'complete',\n",
              "    }\n",
              "  };\n",
              "}\n",
              "\n",
              "scope.google = scope.google || {};\n",
              "scope.google.colab = scope.google.colab || {};\n",
              "scope.google.colab._files = {\n",
              "  _uploadFiles,\n",
              "  _uploadFilesContinue,\n",
              "};\n",
              "})(self);\n",
              "</script> "
            ]
          },
          "metadata": {}
        },
        {
          "output_type": "stream",
          "name": "stdout",
          "text": [
            "Saving Santander_Dev_Week2023.csv to Santander_Dev_Week2023.csv\n"
          ]
        }
      ]
    },
    {
      "cell_type": "code",
      "source": [
        "file_name = list(uploaded.keys())[0]\n",
        "print(file_name)"
      ],
      "metadata": {
        "colab": {
          "base_uri": "https://localhost:8080/"
        },
        "id": "wfIVkF8Wdb83",
        "outputId": "11e22574-a842-4e47-d850-01a1e5b0affe"
      },
      "execution_count": 8,
      "outputs": [
        {
          "output_type": "stream",
          "name": "stdout",
          "text": [
            "Santander_Dev_Week2023.csv\n"
          ]
        }
      ]
    },
    {
      "cell_type": "code",
      "source": [
        "#Função para carregar os valores na variavel\n",
        "def load_user_ids(filename):\n",
        "    return pd.read_csv(filename)['UserID']\n",
        "\n",
        "user_ids = load_user_ids(f\"{file_name}\")\n",
        "print(f\"User IDs loaded: {user_ids.tolist()}\\n\")"
      ],
      "metadata": {
        "colab": {
          "base_uri": "https://localhost:8080/"
        },
        "id": "mFZdZKIfVBez",
        "outputId": "043f9dfa-f43d-4f18-a85f-ef2725cbb53d"
      },
      "execution_count": 10,
      "outputs": [
        {
          "output_type": "stream",
          "name": "stdout",
          "text": [
            "User IDs loaded: [1, 2, 3, 4, 5]\n",
            "\n"
          ]
        }
      ]
    },
    {
      "cell_type": "markdown",
      "source": [
        "# Interação API"
      ],
      "metadata": {
        "id": "LUJSVdmCrkz_"
      }
    },
    {
      "cell_type": "markdown",
      "source": [
        "# Exploração dos dados"
      ],
      "metadata": {
        "id": "f_oegJMFYr_t"
      }
    },
    {
      "cell_type": "markdown",
      "source": [
        "Aqui, a função \"get_user-data\" tem como intuito fazer a ligação entre o sistema e a API"
      ],
      "metadata": {
        "id": "p4I5ciguWZW0"
      }
    },
    {
      "cell_type": "code",
      "source": [
        "def get_user_data(user_id):\n",
        "    url = f\"https://sdw-2023-prd.up.railway.app/users/{user_id}\"\n",
        "\n",
        "    try:\n",
        "        response = requests.get(url)\n",
        "        response.raise_for_status()\n",
        "\n",
        "        return response.json()\n",
        "    except requests.RequestException as e:\n",
        "        return None\n",
        "\n",
        "test_response = get_user_data(1)\n",
        "print(json.dumps(test_response, indent = 4))"
      ],
      "metadata": {
        "colab": {
          "base_uri": "https://localhost:8080/"
        },
        "id": "JwGDWJn2WhRt",
        "outputId": "f4eb2373-aada-4abc-eb81-70133b21edd6"
      },
      "execution_count": 11,
      "outputs": [
        {
          "output_type": "stream",
          "name": "stdout",
          "text": [
            "{\n",
            "    \"id\": 1,\n",
            "    \"name\": \"Devweekerson\",\n",
            "    \"account\": {\n",
            "        \"id\": 1,\n",
            "        \"number\": \"01.097954-4\",\n",
            "        \"agency\": \"2030\",\n",
            "        \"balance\": 624.12,\n",
            "        \"limit\": 1000.0\n",
            "    },\n",
            "    \"card\": {\n",
            "        \"id\": 1,\n",
            "        \"number\": \"xxxx xxxx xxxx 1111\",\n",
            "        \"limit\": 2000.0\n",
            "    },\n",
            "    \"features\": [\n",
            "        {\n",
            "            \"id\": 2,\n",
            "            \"icon\": \"https://digitalinnovationone.github.io/santander-dev-week-2023-api/icons/pay.svg\",\n",
            "            \"description\": \"Pagar\"\n",
            "        },\n",
            "        {\n",
            "            \"id\": 3,\n",
            "            \"icon\": \"https://digitalinnovationone.github.io/santander-dev-week-2023-api/icons/transfer.svg\",\n",
            "            \"description\": \"Transferir\"\n",
            "        },\n",
            "        {\n",
            "            \"id\": 4,\n",
            "            \"icon\": \"https://digitalinnovationone.github.io/santander-dev-week-2023-api/icons/account.svg\",\n",
            "            \"description\": \"Conta Corrente\"\n",
            "        },\n",
            "        {\n",
            "            \"id\": 5,\n",
            "            \"icon\": \"https://digitalinnovationone.github.io/santander-dev-week-2023-api/icons/cards.svg\",\n",
            "            \"description\": \"Cart\\u00f5es\"\n",
            "        },\n",
            "        {\n",
            "            \"id\": 1,\n",
            "            \"icon\": \"https://digitalinnovationone.github.io/santander-dev-week-2023-api/icons/pix.svg\",\n",
            "            \"description\": \"PIX\"\n",
            "        }\n",
            "    ],\n",
            "    \"news\": [\n",
            "        {\n",
            "            \"id\": 1,\n",
            "            \"icon\": \"https://digitalinnovationone.github.io/santander-dev-week-2023-api/icons/credit.svg\",\n",
            "            \"description\": \"O Santander tem solu\\u00e7\\u00f5es de cr\\u00e9dito sob medida pra voc\\u00ea. Confira!\"\n",
            "        },\n",
            "        {\n",
            "            \"id\": 2,\n",
            "            \"icon\": \"https://digitalinnovationone.github.io/santander-dev-week-2023-api/icons/insurance.svg\",\n",
            "            \"description\": \"Santander Seguro Casa, seu faz-tudo. Mais de 50 servi\\u00e7os pra voc\\u00ea. Confira!\"\n",
            "        }\n",
            "    ]\n",
            "}\n"
          ]
        }
      ]
    },
    {
      "cell_type": "markdown",
      "source": [
        "# Transformação dos dados"
      ],
      "metadata": {
        "id": "-00aQ4q7YjTE"
      }
    },
    {
      "cell_type": "code",
      "source": [
        "def generate_custom_message(user_data):\n",
        "    variables = {\n",
        "        \"name\": user_data.get('name', 'Cliente'),\n",
        "        \"balance\": user_data.get('account', {}).get('balance', 0),\n",
        "        \"card_limit\": user_data.get('card', {}).get('limit', 0)\n",
        "    }\n",
        "\n",
        "    if variables['balance'] < 1000:\n",
        "        balance_msg = \"Começar a investir com recursos financeiros limitados pode ser um desafio, porém, não é uma tarefa impossível.\"\n",
        "    else:\n",
        "        balance_msg = \"Com a sua sólida situação financeira, as possibilidades de investimento se expandem consideravelmente.\"\n",
        "\n",
        "    if variables['card_limit'] < 1000:\n",
        "        card_msg = \"Devido ao seu limite de cartão mais modesto, é aconselhável considerar opções de investimento com menor grau de risco.\"\n",
        "    else:\n",
        "        card_msg = \"Graças ao seu limite de cartão mais alto, você tem a liberdade de explorar uma ampla gama de oportunidades de investimento.\"\n",
        "\n",
        "    return f\"Olá {variables['name']},\" + \"\\n\" + f\"{balance_msg}\" + \"\\n\" + f\"{card_msg}\" + \"Investir é a chave para fazer o seu dinheiro crescer. Não deixe seus recursos ociosos. Está pronto para começar a investir?\""
      ],
      "metadata": {
        "id": "vzkgZIoVYzTm"
      },
      "execution_count": 12,
      "outputs": []
    },
    {
      "cell_type": "code",
      "source": [
        "# Função para geração da mensagem\n",
        "def generate_bard_message(user_data):\n",
        "    bard = Bard()\n",
        "    name = user_data.get('name', 'Cliente')\n",
        "    balance = user_data.get('account', {}).get('balance', 0)\n",
        "    card_limit = user_data.get('card', {}).get('limit', 0)\n",
        "    prompt = f\"Você é um banqueiro expert, que lida com investimentos e aconselhamento. Crie uma mensagem para {name} sobre a importância dos investimentos. Considere que o saldo deles é de {balance} e o limite do cartão de crédito de {card_limit}. (responda somente com a mensagem)\"\n",
        "\n",
        "    return bard.get_answer(prompt)['content']"
      ],
      "metadata": {
        "id": "vVDUfag7bwAz"
      },
      "execution_count": 13,
      "outputs": []
    },
    {
      "cell_type": "markdown",
      "source": [
        "# Carregamento dos dados\n"
      ],
      "metadata": {
        "id": "RJuRluIgYvlt"
      }
    },
    {
      "cell_type": "code",
      "source": [
        "def print_colored_message(title, message = None, custom_message = None, bard_message = None, mType = \"warning\"):\n",
        "    # ANSI escape codes for color and background\n",
        "    base_bg_color = \"\\033[100m\"  # original gray background\n",
        "    color_map = {\n",
        "        \"warning\": \"\\033[93m\" + base_bg_color,  # yellow text, gray background\n",
        "        \"success\": \"\\033[92m\" + base_bg_color,  # green text, gray background\n",
        "        \"error\": \"\\033[91m\" + base_bg_color,    # red text, gray background\n",
        "    }\n",
        "    title_colors = \"\\033[91m\" + base_bg_color  # light red text for titles\n",
        "    bard_title_colors = \"\\033[96m\" + base_bg_color  # cyan text for bard title\n",
        "    colors = color_map.get(mType, \"\\033[0m\")\n",
        "\n",
        "    def print_fixed_width_line(line, line_color=colors):\n",
        "        print(line_color + f\"{line}{' ' * (80 - len(line))}\\033[0m\")\n",
        "\n",
        "    print_fixed_width_line(\"=\"*80)\n",
        "    print_fixed_width_line(title.center(80))\n",
        "    print_fixed_width_line(\"=\"*80)\n",
        "\n",
        "    if message:\n",
        "        print_fixed_width_line(message)\n",
        "        print_fixed_width_line(\"=\"*80)\n",
        "\n",
        "        return\n",
        "\n",
        "\n",
        "    print_fixed_width_line(\"Resposta baseada em regras:\", title_colors)\n",
        "    print_fixed_width_line(\"\")\n",
        "\n",
        "    for line in custom_message.split(\"\\n\"):\n",
        "        words = line.split()\n",
        "        output_line = \"\"\n",
        "        for word in words:\n",
        "            if len(output_line) + len(word) + 1 > 80:\n",
        "                print_fixed_width_line(output_line.strip())\n",
        "                output_line = \"\"\n",
        "            output_line += (word + \" \")\n",
        "        print_fixed_width_line(output_line.strip())\n",
        "\n",
        "    print_fixed_width_line(\"\")\n",
        "\n",
        "\n",
        "    print_fixed_width_line(\"Mensagem do Bard:\", bard_title_colors)\n",
        "    print_fixed_width_line(\"\")\n",
        "\n",
        "    for line in bard_message.split(\"\\n\"):\n",
        "        words = line.split()\n",
        "        output_line = \"\"\n",
        "        for word in words:\n",
        "            if len(output_line) + len(word) + 1 > 80:\n",
        "                print_fixed_width_line(output_line.strip())\n",
        "                output_line = \"\"\n",
        "            output_line += (word + \" \")\n",
        "        print_fixed_width_line(output_line.strip())\n",
        "\n",
        "    print_fixed_width_line(\"\")"
      ],
      "metadata": {
        "id": "VgQeNlocb-PE"
      },
      "execution_count": 15,
      "outputs": []
    },
    {
      "cell_type": "markdown",
      "source": [
        "# Processamento principal"
      ],
      "metadata": {
        "id": "FNoqz_FPcPRH"
      }
    },
    {
      "cell_type": "code",
      "source": [
        "def process_single_user(user_id, retry_delay=INITIAL_DELAY):\n",
        "    pbar = tqdm(range(MAX_ATTEMPTS), desc=f\"Processing User {user_id}\", leave=False)\n",
        "\n",
        "    for attempt in pbar:\n",
        "        try:\n",
        "            user_data = get_user_data(user_id)\n",
        "\n",
        "            if user_data is None:\n",
        "                raise Exception(\"Dados do usuário não disponíveis\")\n",
        "\n",
        "            custom_message = generate_custom_message(user_data)\n",
        "            bard_message = generate_bard_message(user_data)\n",
        "\n",
        "            print_colored_message(f\"Recomendações para o usuário {user_id}\", custom_message=custom_message, bard_message=bard_message, message_type=\"warning\")\n",
        "\n",
        "\n",
        "            pbar.n = MAX_ATTEMPTS\n",
        "            pbar.last_print_n = MAX_ATTEMPTS\n",
        "            pbar.update()\n",
        "            pbar.close()\n",
        "\n",
        "            return user_data, custom_message, bard_message\n",
        "        except Exception as e:\n",
        "            time.sleep(retry_delay)\n",
        "            retry_delay *= 2\n",
        "\n",
        "    pbar.close()\n",
        "\n",
        "    return None, None, None"
      ],
      "metadata": {
        "id": "aYn2Ui-KcQ_u"
      },
      "execution_count": 17,
      "outputs": []
    },
    {
      "cell_type": "code",
      "source": [
        "user_messages_dict = {}"
      ],
      "metadata": {
        "id": "hVGAm7_EcSRW"
      },
      "execution_count": 18,
      "outputs": []
    },
    {
      "cell_type": "code",
      "source": [
        "def process_users(user_ids):\n",
        "    for user_id in user_ids:\n",
        "        user_data, custom_message, bard_message = process_single_user(user_id)\n",
        "\n",
        "        user_messages_dict[user_id] = {\n",
        "            'user_data': user_data,\n",
        "            'custom_message': custom_message,\n",
        "            'bard_message': bard_message\n",
        "        }\n",
        "\n",
        "        if user_data is None:\n",
        "            print(\"\\n\" + f\"Falha ao processar o usuário {user_id}.\")\n",
        "        else:\n",
        "            print(\"\\n\" + f\"Usuário {user_id} processado com sucesso.\")\n",
        "\n",
        "    print(\"Lista de usuários finalizada.\")\n"
      ],
      "metadata": {
        "id": "QZ8taz2hcS8G"
      },
      "execution_count": 21,
      "outputs": []
    },
    {
      "cell_type": "code",
      "source": [
        "process_users(user_ids)"
      ],
      "metadata": {
        "colab": {
          "base_uri": "https://localhost:8080/"
        },
        "id": "UMmI29DxcUuf",
        "outputId": "52c52796-e847-486a-dd05-b6845090bd3d"
      },
      "execution_count": 22,
      "outputs": [
        {
          "output_type": "stream",
          "name": "stderr",
          "text": []
        },
        {
          "output_type": "stream",
          "name": "stdout",
          "text": [
            "\n",
            "Falha ao processar o usuário 1.\n"
          ]
        },
        {
          "output_type": "stream",
          "name": "stderr",
          "text": []
        },
        {
          "output_type": "stream",
          "name": "stdout",
          "text": [
            "\n",
            "Falha ao processar o usuário 2.\n"
          ]
        },
        {
          "output_type": "stream",
          "name": "stderr",
          "text": []
        },
        {
          "output_type": "stream",
          "name": "stdout",
          "text": [
            "\n",
            "Falha ao processar o usuário 3.\n"
          ]
        },
        {
          "output_type": "stream",
          "name": "stderr",
          "text": []
        },
        {
          "output_type": "stream",
          "name": "stdout",
          "text": [
            "\n",
            "Falha ao processar o usuário 4.\n"
          ]
        },
        {
          "output_type": "stream",
          "name": "stderr",
          "text": [
            "                                                                "
          ]
        },
        {
          "output_type": "stream",
          "name": "stdout",
          "text": [
            "\n",
            "Falha ao processar o usuário 5.\n",
            "Lista de usuários finalizada.\n"
          ]
        },
        {
          "output_type": "stream",
          "name": "stderr",
          "text": [
            "\r"
          ]
        }
      ]
    },
    {
      "cell_type": "markdown",
      "source": [
        "# Atualização dos dados"
      ],
      "metadata": {
        "id": "5Vxo1fkccWn2"
      }
    },
    {
      "cell_type": "code",
      "source": [
        "def update_user(user_id, user_data, bard_message):\n",
        "    # URL base da API\n",
        "    sdw2023_api_url = \"https://sdw-2023-prd.up.railway.app\"\n",
        "\n",
        "    # Preparar a nova mensagem\n",
        "    new_news_item = {\n",
        "        \"icon\": \"https://digitalinnovationone.github.io/santander-dev-week-2023-api/icons/credit.svg\",\n",
        "        \"description\": bard_message\n",
        "    }\n",
        "\n",
        "    # Adicionar a nova mensagem à lista de \"news\" existente\n",
        "    if 'news' in user_data:\n",
        "        user_data['news'].append(new_news_item)\n",
        "    else:\n",
        "        user_data['news'] = [new_news_item]\n",
        "\n",
        "    # Fazer a requisição PUT para atualizar o usuário\n",
        "    response = requests.put(f\"{sdw2023_api_url}/users/{user_id}\", json=user_data)\n",
        "\n",
        "    # Retornar o status da operação\n",
        "    return True if response.status_code == 200 else False"
      ],
      "metadata": {
        "id": "YVpJdRaacYR2"
      },
      "execution_count": 23,
      "outputs": []
    },
    {
      "cell_type": "code",
      "source": [
        "def update_all_users():\n",
        "    for user_id, user_entry in user_messages_dict.items():\n",
        "        user_data = user_entry['user_data']\n",
        "        bard_message = user_entry['bard_message']\n",
        "\n",
        "        if user_data is not None:  # Skip entries where user_data is None\n",
        "            success = update_user(user_id, user_data, bard_message)\n",
        "\n",
        "            # Use a cor verde para sucesso e vermelha para falha\n",
        "            message_type = \"success\" if success else \"error\"\n",
        "\n",
        "            print_colored_message(\n",
        "                title=f\"Status de Atualização para o Usuário {user_id}\",\n",
        "                message=f\"Usuário {user_id} atualizado? {success}\",\n",
        "                mType=message_type\n",
        "            )"
      ],
      "metadata": {
        "id": "ha_RLjkqcZam"
      },
      "execution_count": 24,
      "outputs": []
    },
    {
      "cell_type": "code",
      "source": [
        "update_all_users()"
      ],
      "metadata": {
        "id": "qaN5t7pVf4Mp"
      },
      "execution_count": 25,
      "outputs": []
    }
  ]
}